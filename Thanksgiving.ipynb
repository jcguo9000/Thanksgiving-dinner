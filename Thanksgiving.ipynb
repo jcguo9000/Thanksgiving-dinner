{
 "cells": [
  {
   "cell_type": "code",
   "execution_count": 1,
   "metadata": {
    "collapsed": false
   },
   "outputs": [
    {
     "name": "stdout",
     "output_type": "stream",
     "text": [
      "   RespondentID Do you celebrate Thanksgiving?  \\\n",
      "0    4337954960                            Yes   \n",
      "1    4337951949                            Yes   \n",
      "2    4337935621                            Yes   \n",
      "3    4337933040                            Yes   \n",
      "4    4337931983                            Yes   \n",
      "\n",
      "  What is typically the main dish at your Thanksgiving dinner?  \\\n",
      "0                                             Turkey             \n",
      "1                                             Turkey             \n",
      "2                                             Turkey             \n",
      "3                                             Turkey             \n",
      "4                                           Tofurkey             \n",
      "\n",
      "  What is typically the main dish at your Thanksgiving dinner? - Other (please specify)  \\\n",
      "0                                                NaN                                      \n",
      "1                                                NaN                                      \n",
      "2                                                NaN                                      \n",
      "3                                                NaN                                      \n",
      "4                                                NaN                                      \n",
      "\n",
      "  How is the main dish typically cooked?  \\\n",
      "0                                  Baked   \n",
      "1                                  Baked   \n",
      "2                                Roasted   \n",
      "3                                  Baked   \n",
      "4                                  Baked   \n",
      "\n",
      "  How is the main dish typically cooked? - Other (please specify)  \\\n",
      "0                                                NaN                \n",
      "1                                                NaN                \n",
      "2                                                NaN                \n",
      "3                                                NaN                \n",
      "4                                                NaN                \n",
      "\n",
      "  What kind of stuffing/dressing do you typically have?  \\\n",
      "0                                        Bread-based      \n",
      "1                                        Bread-based      \n",
      "2                                         Rice-based      \n",
      "3                                        Bread-based      \n",
      "4                                        Bread-based      \n",
      "\n",
      "  What kind of stuffing/dressing do you typically have? - Other (please specify)  \\\n",
      "0                                                NaN                               \n",
      "1                                                NaN                               \n",
      "2                                                NaN                               \n",
      "3                                                NaN                               \n",
      "4                                                NaN                               \n",
      "\n",
      "  What type of cranberry saucedo you typically have?  \\\n",
      "0                                               None   \n",
      "1                             Other (please specify)   \n",
      "2                                           Homemade   \n",
      "3                                           Homemade   \n",
      "4                                             Canned   \n",
      "\n",
      "  What type of cranberry saucedo you typically have? - Other (please specify)  \\\n",
      "0                                                NaN                            \n",
      "1                    Homemade cranberry gelatin ring                            \n",
      "2                                                NaN                            \n",
      "3                                                NaN                            \n",
      "4                                                NaN                            \n",
      "\n",
      "          ...          \\\n",
      "0         ...           \n",
      "1         ...           \n",
      "2         ...           \n",
      "3         ...           \n",
      "4         ...           \n",
      "\n",
      "  Have you ever tried to meet up with hometown friends on Thanksgiving night?  \\\n",
      "0                                                Yes                            \n",
      "1                                                 No                            \n",
      "2                                                Yes                            \n",
      "3                                                Yes                            \n",
      "4                                                Yes                            \n",
      "\n",
      "  Have you ever attended a \"Friendsgiving?\"  \\\n",
      "0                                        No   \n",
      "1                                        No   \n",
      "2                                       Yes   \n",
      "3                                        No   \n",
      "4                                        No   \n",
      "\n",
      "  Will you shop any Black Friday sales on Thanksgiving Day?  \\\n",
      "0                                                 No          \n",
      "1                                                Yes          \n",
      "2                                                Yes          \n",
      "3                                                 No          \n",
      "4                                                 No          \n",
      "\n",
      "  Do you work in retail? Will you employer make you work on Black Friday?  \\\n",
      "0                     No                                              NaN   \n",
      "1                     No                                              NaN   \n",
      "2                     No                                              NaN   \n",
      "3                     No                                              NaN   \n",
      "4                     No                                              NaN   \n",
      "\n",
      "  How would you describe where you live?      Age What is your gender?  \\\n",
      "0                               Suburban  18 - 29                 Male   \n",
      "1                                  Rural  18 - 29               Female   \n",
      "2                               Suburban  18 - 29                 Male   \n",
      "3                                  Urban  30 - 44                 Male   \n",
      "4                                  Urban  30 - 44                 Male   \n",
      "\n",
      "  How much total combined money did all members of your HOUSEHOLD earn last year?  \\\n",
      "0                                 $75,000 to $99,999                                \n",
      "1                                 $50,000 to $74,999                                \n",
      "2                                       $0 to $9,999                                \n",
      "3                                    $200,000 and up                                \n",
      "4                               $100,000 to $124,999                                \n",
      "\n",
      "            US Region  \n",
      "0     Middle Atlantic  \n",
      "1  East South Central  \n",
      "2            Mountain  \n",
      "3             Pacific  \n",
      "4             Pacific  \n",
      "\n",
      "[5 rows x 65 columns]\n",
      "Index(['RespondentID', 'Do you celebrate Thanksgiving?',\n",
      "       'What is typically the main dish at your Thanksgiving dinner?',\n",
      "       'What is typically the main dish at your Thanksgiving dinner? - Other (please specify)',\n",
      "       'How is the main dish typically cooked?',\n",
      "       'How is the main dish typically cooked? - Other (please specify)',\n",
      "       'What kind of stuffing/dressing do you typically have?',\n",
      "       'What kind of stuffing/dressing do you typically have? - Other (please specify)',\n",
      "       'What type of cranberry saucedo you typically have?',\n",
      "       'What type of cranberry saucedo you typically have? - Other (please specify)',\n",
      "       'Do you typically have gravy?',\n",
      "       'Which of these side dishes aretypically served at your Thanksgiving dinner? Please select all that apply. - Brussel sprouts',\n",
      "       'Which of these side dishes aretypically served at your Thanksgiving dinner? Please select all that apply. - Carrots',\n",
      "       'Which of these side dishes aretypically served at your Thanksgiving dinner? Please select all that apply. - Cauliflower',\n",
      "       'Which of these side dishes aretypically served at your Thanksgiving dinner? Please select all that apply. - Corn',\n",
      "       'Which of these side dishes aretypically served at your Thanksgiving dinner? Please select all that apply. - Cornbread',\n",
      "       'Which of these side dishes aretypically served at your Thanksgiving dinner? Please select all that apply. - Fruit salad',\n",
      "       'Which of these side dishes aretypically served at your Thanksgiving dinner? Please select all that apply. - Green beans/green bean casserole',\n",
      "       'Which of these side dishes aretypically served at your Thanksgiving dinner? Please select all that apply. - Macaroni and cheese',\n",
      "       'Which of these side dishes aretypically served at your Thanksgiving dinner? Please select all that apply. - Mashed potatoes',\n",
      "       'Which of these side dishes aretypically served at your Thanksgiving dinner? Please select all that apply. - Rolls/biscuits',\n",
      "       'Which of these side dishes aretypically served at your Thanksgiving dinner? Please select all that apply. - Squash',\n",
      "       'Which of these side dishes aretypically served at your Thanksgiving dinner? Please select all that apply. - Vegetable salad',\n",
      "       'Which of these side dishes aretypically served at your Thanksgiving dinner? Please select all that apply. - Yams/sweet potato casserole',\n",
      "       'Which of these side dishes aretypically served at your Thanksgiving dinner? Please select all that apply. - Other (please specify)',\n",
      "       'Which of these side dishes aretypically served at your Thanksgiving dinner? Please select all that apply. - Other (please specify).1',\n",
      "       'Which type of pie is typically served at your Thanksgiving dinner? Please select all that apply. - Apple',\n",
      "       'Which type of pie is typically served at your Thanksgiving dinner? Please select all that apply. - Buttermilk',\n",
      "       'Which type of pie is typically served at your Thanksgiving dinner? Please select all that apply. - Cherry',\n",
      "       'Which type of pie is typically served at your Thanksgiving dinner? Please select all that apply. - Chocolate',\n",
      "       'Which type of pie is typically served at your Thanksgiving dinner? Please select all that apply. - Coconut cream',\n",
      "       'Which type of pie is typically served at your Thanksgiving dinner? Please select all that apply. - Key lime',\n",
      "       'Which type of pie is typically served at your Thanksgiving dinner? Please select all that apply. - Peach',\n",
      "       'Which type of pie is typically served at your Thanksgiving dinner? Please select all that apply. - Pecan',\n",
      "       'Which type of pie is typically served at your Thanksgiving dinner? Please select all that apply. - Pumpkin',\n",
      "       'Which type of pie is typically served at your Thanksgiving dinner? Please select all that apply. - Sweet Potato',\n",
      "       'Which type of pie is typically served at your Thanksgiving dinner? Please select all that apply. - None',\n",
      "       'Which type of pie is typically served at your Thanksgiving dinner? Please select all that apply. - Other (please specify)',\n",
      "       'Which type of pie is typically served at your Thanksgiving dinner? Please select all that apply. - Other (please specify).1',\n",
      "       'Which of these desserts do you typically have at Thanksgiving dinner? Please select all that apply.   - Apple cobbler',\n",
      "       'Which of these desserts do you typically have at Thanksgiving dinner? Please select all that apply.   - Blondies',\n",
      "       'Which of these desserts do you typically have at Thanksgiving dinner? Please select all that apply.   - Brownies',\n",
      "       'Which of these desserts do you typically have at Thanksgiving dinner? Please select all that apply.   - Carrot cake',\n",
      "       'Which of these desserts do you typically have at Thanksgiving dinner? Please select all that apply.   - Cheesecake',\n",
      "       'Which of these desserts do you typically have at Thanksgiving dinner? Please select all that apply.   - Cookies',\n",
      "       'Which of these desserts do you typically have at Thanksgiving dinner? Please select all that apply.   - Fudge',\n",
      "       'Which of these desserts do you typically have at Thanksgiving dinner? Please select all that apply.   - Ice cream',\n",
      "       'Which of these desserts do you typically have at Thanksgiving dinner? Please select all that apply.   - Peach cobbler',\n",
      "       'Which of these desserts do you typically have at Thanksgiving dinner? Please select all that apply.   - None',\n",
      "       'Which of these desserts do you typically have at Thanksgiving dinner? Please select all that apply.   - Other (please specify)',\n",
      "       'Which of these desserts do you typically have at Thanksgiving dinner? Please select all that apply.   - Other (please specify).1',\n",
      "       'Do you typically pray before or after the Thanksgiving meal?',\n",
      "       'How far will you travel for Thanksgiving?',\n",
      "       'Will you watch any of the following programs on Thanksgiving? Please select all that apply. - Macy's Parade',\n",
      "       'What's the age cutoff at your \"kids' table\" at Thanksgiving?',\n",
      "       'Have you ever tried to meet up with hometown friends on Thanksgiving night?',\n",
      "       'Have you ever attended a \"Friendsgiving?\"',\n",
      "       'Will you shop any Black Friday sales on Thanksgiving Day?',\n",
      "       'Do you work in retail?',\n",
      "       'Will you employer make you work on Black Friday?',\n",
      "       'How would you describe where you live?', 'Age', 'What is your gender?',\n",
      "       'How much total combined money did all members of your HOUSEHOLD earn last year?',\n",
      "       'US Region'],\n",
      "      dtype='object')\n"
     ]
    }
   ],
   "source": [
    "import pandas as pd\n",
    "data = pd.read_csv(\"thanksgiving.csv\", encoding=\"Latin-1\")\n",
    "print(data.head(5))\n",
    "print(data.columns)"
   ]
  },
  {
   "cell_type": "code",
   "execution_count": 2,
   "metadata": {
    "collapsed": false
   },
   "outputs": [
    {
     "name": "stdout",
     "output_type": "stream",
     "text": [
      "Yes    980\n",
      "No      78\n",
      "Name: Do you celebrate Thanksgiving?, dtype: int64\n"
     ]
    }
   ],
   "source": [
    "print(data[\"Do you celebrate Thanksgiving?\"].value_counts())\n",
    "celebrate = data[\"Do you celebrate Thanksgiving?\"] == \"Yes\"\n",
    "data = data[celebrate]"
   ]
  },
  {
   "cell_type": "code",
   "execution_count": 3,
   "metadata": {
    "collapsed": false
   },
   "outputs": [
    {
     "name": "stdout",
     "output_type": "stream",
     "text": [
      "Turkey                    859\n",
      "Other (please specify)     35\n",
      "Ham/Pork                   29\n",
      "Tofurkey                   20\n",
      "Chicken                    12\n",
      "Roast beef                 11\n",
      "I don't know                5\n",
      "Turducken                   3\n",
      "Name: What is typically the main dish at your Thanksgiving dinner?, dtype: int64\n",
      "4      Yes\n",
      "33     Yes\n",
      "69      No\n",
      "72      No\n",
      "77     Yes\n",
      "145    Yes\n",
      "175    Yes\n",
      "218     No\n",
      "243    Yes\n",
      "275     No\n",
      "393    Yes\n",
      "399    Yes\n",
      "571    Yes\n",
      "594    Yes\n",
      "628     No\n",
      "774     No\n",
      "820     No\n",
      "837    Yes\n",
      "860     No\n",
      "953    Yes\n",
      "Name: Do you typically have gravy?, dtype: object\n"
     ]
    }
   ],
   "source": [
    "print(data[\"What is typically the main dish at your Thanksgiving dinner?\"].value_counts())\n",
    "is_tofurkey = data[\"What is typically the main dish at your Thanksgiving dinner?\"]==\"Tofurkey\"\n",
    "print(data[is_tofurkey][\"Do you typically have gravy?\"])"
   ]
  },
  {
   "cell_type": "code",
   "execution_count": 4,
   "metadata": {
    "collapsed": false,
    "scrolled": true
   },
   "outputs": [
    {
     "name": "stdout",
     "output_type": "stream",
     "text": [
      "False    876\n",
      "True     104\n",
      "dtype: int64\n"
     ]
    }
   ],
   "source": [
    "apple_isnull = pd.isnull(data[\"Which type of pie is typically served at your Thanksgiving dinner? Please select all that apply. - Apple\"])\n",
    "pumkin_isnull = pd.isnull(data[\"Which type of pie is typically served at your Thanksgiving dinner? Please select all that apply. - Pumpkin\"])\n",
    "pecan_isnull = pd.isnull(data[\"Which type of pie is typically served at your Thanksgiving dinner? Please select all that apply. - Pecan\"])\n",
    "ate_pies = apple_isnull & pumkin_isnull & pecan_isnull\n",
    "print(ate_pies.value_counts())\n"
   ]
  },
  {
   "cell_type": "code",
   "execution_count": 5,
   "metadata": {
    "collapsed": false
   },
   "outputs": [
    {
     "data": {
      "text/plain": [
       "count    947.000000\n",
       "mean      40.089757\n",
       "std       15.352014\n",
       "min       18.000000\n",
       "25%       30.000000\n",
       "50%       45.000000\n",
       "75%       60.000000\n",
       "max       60.000000\n",
       "Name: int_age, dtype: float64"
      ]
     },
     "execution_count": 5,
     "metadata": {},
     "output_type": "execute_result"
    }
   ],
   "source": [
    "def str_to_int(row):\n",
    "    if pd.isnull(row):\n",
    "        result = None\n",
    "    else:\n",
    "        result = row.split()[0]\n",
    "        result = result.replace('+','')\n",
    "        result = int(result)\n",
    "    return result\n",
    "data['int_age'] = data['Age'].apply(str_to_int)\n",
    "data['int_age'].describe()"
   ]
  },
  {
   "cell_type": "markdown",
   "metadata": {},
   "source": [
    "Is there anything that we should be aware of about the results or our methodology?\n",
    "\n",
    "A: Yes. The age data is generated from the lower end of the age range instead of the actual age data. This might cause the obtained age data statistics lower than that of the actual age data.\n",
    "\n",
    "Is this a true depiction of the ages of survey participants?\n",
    "\n",
    "A: No. The depiction we obtained is from the lower end of the age range data which may be lower than the depication of the actual age data."
   ]
  },
  {
   "cell_type": "code",
   "execution_count": 6,
   "metadata": {
    "collapsed": false
   },
   "outputs": [
    {
     "data": {
      "text/plain": [
       "count       829.000000\n",
       "mean      75965.018094\n",
       "std       59068.636748\n",
       "min           0.000000\n",
       "25%       25000.000000\n",
       "50%       75000.000000\n",
       "75%      100000.000000\n",
       "max      200000.000000\n",
       "Name: int_income, dtype: float64"
      ]
     },
     "execution_count": 6,
     "metadata": {},
     "output_type": "execute_result"
    }
   ],
   "source": [
    "def income(row):\n",
    "    if pd.isnull(row):\n",
    "        result = None\n",
    "    else:\n",
    "        result = row.split()[0]\n",
    "        if result == \"Prefer\":\n",
    "            result = None\n",
    "        else:\n",
    "            result = result.replace('$','')\n",
    "            result = result.replace(',','')\n",
    "            result = int(result)\n",
    "    return result\n",
    "\n",
    "data['int_income'] = data['How much total combined money did all members of your HOUSEHOLD earn last year?'].apply(income)\n",
    "data['int_income'].describe()\n",
    "            \n",
    "            "
   ]
  },
  {
   "cell_type": "markdown",
   "metadata": {},
   "source": [
    "Is there anything that we should be aware of about the results or our methodology?\n",
    "\n",
    "A: Yes. The income data is generated from the lower end of the income range data instead of the actual income data. This might cause the obtained income data statistics lower than that of the actual income data.\n",
    "\n",
    "Is this a true depiction of the incomes of survey participants?\n",
    "\n",
    "A: No. The depiction we obtained is from the lower end of the income range data which may be lower than the depication of the actual income data."
   ]
  },
  {
   "cell_type": "code",
   "execution_count": 7,
   "metadata": {
    "collapsed": false
   },
   "outputs": [
    {
     "name": "stdout",
     "output_type": "stream",
     "text": [
      "Thanksgiving is happening at my home--I won't travel at all                         281\n",
      "Thanksgiving is local--it will take place in the town I live in                     203\n",
      "Thanksgiving is out of town but not too far--it's a drive of a few hours or less    150\n",
      "Thanksgiving is out of town and far away--I have to drive several hours or fly       55\n",
      "Name: How far will you travel for Thanksgiving?, dtype: int64\n",
      "Thanksgiving is happening at my home--I won't travel at all                         49\n",
      "Thanksgiving is local--it will take place in the town I live in                     25\n",
      "Thanksgiving is out of town but not too far--it's a drive of a few hours or less    16\n",
      "Thanksgiving is out of town and far away--I have to drive several hours or fly      12\n",
      "Name: How far will you travel for Thanksgiving?, dtype: int64\n"
     ]
    }
   ],
   "source": [
    "less_15k = data['int_income'] < 150000\n",
    "travel_less_15k = data['How far will you travel for Thanksgiving?'][less_15k]\n",
    "print(travel_less_15k.value_counts())\n",
    "\n",
    "more_15k = data['int_income'] > 150000\n",
    "travel_more_15k = data['How far will you travel for Thanksgiving?'][more_15k]\n",
    "print(travel_more_15k.value_counts())"
   ]
  },
  {
   "cell_type": "markdown",
   "metadata": {},
   "source": [
    "Apparently, the popluation that earns more than 150000 is much smaller than that whom earns less than 150000. In both groups, the population that doesn't travel is the largest. The population decreses as the distance travelled increases. The proportion of people travlled for different distance is similiar in 2 groups. A percentation calculation and a bar chart may provide more insights into the data."
   ]
  },
  {
   "cell_type": "code",
   "execution_count": 8,
   "metadata": {
    "collapsed": false
   },
   "outputs": [
    {
     "name": "stdout",
     "output_type": "stream",
     "text": [
      "Have you ever attended a \"Friendsgiving?\"                  No        Yes\n",
      "Have you ever tried to meet up with hometown fr...                      \n",
      "No                                                  42.283702  37.010526\n",
      "Yes                                                 41.475410  33.976744\n",
      "Have you ever attended a \"Friendsgiving?\"                     No           Yes\n",
      "Have you ever tried to meet up with hometown fr...                            \n",
      "No                                                  78914.549654  72894.736842\n",
      "Yes                                                 78750.000000  66019.736842\n"
     ]
    }
   ],
   "source": [
    "pt_age = pd.pivot_table(data, index = \"Have you ever tried to meet up with hometown friends on Thanksgiving night?\", columns = 'Have you ever attended a \"Friendsgiving?\"', values = \"int_age\")\n",
    "print(pt_age)\n",
    "\n",
    "pt_income = pd.pivot_table(data, index = \"Have you ever tried to meet up with hometown friends on Thanksgiving night?\", columns = 'Have you ever attended a \"Friendsgiving?\"', values = 'int_income')\n",
    "print(pt_income)\n"
   ]
  },
  {
   "cell_type": "markdown",
   "metadata": {},
   "source": [
    "From the pivot table showing the average age of respondents repond \"No\" to \"Friendsgivings\" questions is older than those who answered \"Yes\"; The average age of respondents respond \"No\" to the \"meet up friends\" question is slightly older than those answered \"Yes\"; In addition, the average age of respondents respond \"No\" to both questions is the oldest; On the other hand, the average age of respondents respond \"Yes\" to both questions is the youngest.\n",
    "\n",
    "From the pivot table showing the average income of respondents repond \"No\" to \"Friendsgivings\" questions is higher than those who ansered \"Yes\"; The average income of respondents respond \"No\" to the \"meet up friends\" question is slightly higher than those answered \"Yes\"; In addition, the average income of respondents respond \"No\" to both questions is the highest; On the other hand, the average age of respondents respond \"Yes\" to both questions is the lowest.\n",
    "\n",
    "It seems the income is positively correlated to the age of the respondents. Younger respondents tend to spend more with friends than older respondents."
   ]
  },
  {
   "cell_type": "code",
   "execution_count": 9,
   "metadata": {
    "collapsed": false,
    "scrolled": true
   },
   "outputs": [
    {
     "name": "stdout",
     "output_type": "stream",
     "text": [
      "[('RespondentID', 0), ('Do you celebrate Thanksgiving?', 1), ('What is typically the main dish at your Thanksgiving dinner?', 2), ('What is typically the main dish at your Thanksgiving dinner? - Other (please specify)', 3), ('How is the main dish typically cooked?', 4), ('How is the main dish typically cooked? - Other (please specify)', 5), ('What kind of stuffing/dressing do you typically have?', 6), ('What kind of stuffing/dressing do you typically have? - Other (please specify)', 7), ('What type of cranberry saucedo you typically have?', 8), ('What type of cranberry saucedo you typically have? - Other (please specify)', 9), ('Do you typically have gravy?', 10), ('Which of these side dishes aretypically served at your Thanksgiving dinner? Please select all that apply. - Brussel sprouts', 11), ('Which of these side dishes aretypically served at your Thanksgiving dinner? Please select all that apply. - Carrots', 12), ('Which of these side dishes aretypically served at your Thanksgiving dinner? Please select all that apply. - Cauliflower', 13), ('Which of these side dishes aretypically served at your Thanksgiving dinner? Please select all that apply. - Corn', 14), ('Which of these side dishes aretypically served at your Thanksgiving dinner? Please select all that apply. - Cornbread', 15), ('Which of these side dishes aretypically served at your Thanksgiving dinner? Please select all that apply. - Fruit salad', 16), ('Which of these side dishes aretypically served at your Thanksgiving dinner? Please select all that apply. - Green beans/green bean casserole', 17), ('Which of these side dishes aretypically served at your Thanksgiving dinner? Please select all that apply. - Macaroni and cheese', 18), ('Which of these side dishes aretypically served at your Thanksgiving dinner? Please select all that apply. - Mashed potatoes', 19), ('Which of these side dishes aretypically served at your Thanksgiving dinner? Please select all that apply. - Rolls/biscuits', 20), ('Which of these side dishes aretypically served at your Thanksgiving dinner? Please select all that apply. - Squash', 21), ('Which of these side dishes aretypically served at your Thanksgiving dinner? Please select all that apply. - Vegetable salad', 22), ('Which of these side dishes aretypically served at your Thanksgiving dinner? Please select all that apply. - Yams/sweet potato casserole', 23), ('Which of these side dishes aretypically served at your Thanksgiving dinner? Please select all that apply. - Other (please specify)', 24), ('Which of these side dishes aretypically served at your Thanksgiving dinner? Please select all that apply. - Other (please specify).1', 25), ('Which type of pie is typically served at your Thanksgiving dinner? Please select all that apply. - Apple', 26), ('Which type of pie is typically served at your Thanksgiving dinner? Please select all that apply. - Buttermilk', 27), ('Which type of pie is typically served at your Thanksgiving dinner? Please select all that apply. - Cherry', 28), ('Which type of pie is typically served at your Thanksgiving dinner? Please select all that apply. - Chocolate', 29), ('Which type of pie is typically served at your Thanksgiving dinner? Please select all that apply. - Coconut cream', 30), ('Which type of pie is typically served at your Thanksgiving dinner? Please select all that apply. - Key lime', 31), ('Which type of pie is typically served at your Thanksgiving dinner? Please select all that apply. - Peach', 32), ('Which type of pie is typically served at your Thanksgiving dinner? Please select all that apply. - Pecan', 33), ('Which type of pie is typically served at your Thanksgiving dinner? Please select all that apply. - Pumpkin', 34), ('Which type of pie is typically served at your Thanksgiving dinner? Please select all that apply. - Sweet Potato', 35), ('Which type of pie is typically served at your Thanksgiving dinner? Please select all that apply. - None', 36), ('Which type of pie is typically served at your Thanksgiving dinner? Please select all that apply. - Other (please specify)', 37), ('Which type of pie is typically served at your Thanksgiving dinner? Please select all that apply. - Other (please specify).1', 38), ('Which of these desserts do you typically have at Thanksgiving dinner? Please select all that apply.   - Apple cobbler', 39), ('Which of these desserts do you typically have at Thanksgiving dinner? Please select all that apply.   - Blondies', 40), ('Which of these desserts do you typically have at Thanksgiving dinner? Please select all that apply.   - Brownies', 41), ('Which of these desserts do you typically have at Thanksgiving dinner? Please select all that apply.   - Carrot cake', 42), ('Which of these desserts do you typically have at Thanksgiving dinner? Please select all that apply.   - Cheesecake', 43), ('Which of these desserts do you typically have at Thanksgiving dinner? Please select all that apply.   - Cookies', 44), ('Which of these desserts do you typically have at Thanksgiving dinner? Please select all that apply.   - Fudge', 45), ('Which of these desserts do you typically have at Thanksgiving dinner? Please select all that apply.   - Ice cream', 46), ('Which of these desserts do you typically have at Thanksgiving dinner? Please select all that apply.   - Peach cobbler', 47), ('Which of these desserts do you typically have at Thanksgiving dinner? Please select all that apply.   - None', 48), ('Which of these desserts do you typically have at Thanksgiving dinner? Please select all that apply.   - Other (please specify)', 49), ('Which of these desserts do you typically have at Thanksgiving dinner? Please select all that apply.   - Other (please specify).1', 50), ('Do you typically pray before or after the Thanksgiving meal?', 51), ('How far will you travel for Thanksgiving?', 52), (\"Will you watch any of the following programs on Thanksgiving? Please select all that apply. - Macy's Parade\", 53), ('What\\'s the age cutoff at your \"kids\\' table\" at Thanksgiving?', 54), ('Have you ever tried to meet up with hometown friends on Thanksgiving night?', 55), ('Have you ever attended a \"Friendsgiving?\"', 56), ('Will you shop any Black Friday sales on Thanksgiving Day?', 57), ('Do you work in retail?', 58), ('Will you employer make you work on Black Friday?', 59), ('How would you describe where you live?', 60), ('Age', 61), ('What is your gender?', 62), ('How much total combined money did all members of your HOUSEHOLD earn last year?', 63), ('US Region', 64), ('int_age', 65), ('int_income', 66)]\n"
     ]
    }
   ],
   "source": [
    "# Get the index number of all columns\n",
    "import operator\n",
    "all_columns = list(data.columns.values)\n",
    "columns_index = {}\n",
    "index = 0\n",
    "for column in all_columns:\n",
    "    columns_index[column] = index\n",
    "    index += 1\n",
    "# sorted value is a list, not a dict anymore\n",
    "sorted_columns_index = sorted(columns_index.items(), key=operator.itemgetter(1))\n",
    "print(sorted_columns_index)"
   ]
  },
  {
   "cell_type": "code",
   "execution_count": 10,
   "metadata": {
    "collapsed": false,
    "scrolled": false
   },
   "outputs": [
    {
     "name": "stdout",
     "output_type": "stream",
     "text": [
      "  Which of these desserts do you typically have at Thanksgiving dinner? Please select all that apply.   - Blondies  \\\n",
      "0                                                NaN                                                                 \n",
      "1                                                NaN                                                                 \n",
      "\n",
      "  Which of these desserts do you typically have at Thanksgiving dinner? Please select all that apply.   - Brownies  \\\n",
      "0                                                NaN                                                                 \n",
      "1                                                NaN                                                                 \n",
      "\n",
      "  Which of these desserts do you typically have at Thanksgiving dinner? Please select all that apply.   - Carrot cake  \\\n",
      "0                                                NaN                                                                    \n",
      "1                                                NaN                                                                    \n",
      "\n",
      "  Which of these desserts do you typically have at Thanksgiving dinner? Please select all that apply.   - Cheesecake  \\\n",
      "0                                         Cheesecake                                                                   \n",
      "1                                         Cheesecake                                                                   \n",
      "\n",
      "  Which of these desserts do you typically have at Thanksgiving dinner? Please select all that apply.   - Cookies  \\\n",
      "0                                            Cookies                                                                \n",
      "1                                            Cookies                                                                \n",
      "\n",
      "  Which of these desserts do you typically have at Thanksgiving dinner? Please select all that apply.   - Fudge  \\\n",
      "0                                                NaN                                                              \n",
      "1                                                NaN                                                              \n",
      "\n",
      "  Which of these desserts do you typically have at Thanksgiving dinner? Please select all that apply.   - Ice cream  \\\n",
      "0                                          Ice cream                                                                  \n",
      "1                                                NaN                                                                  \n",
      "\n",
      "  Which of these desserts do you typically have at Thanksgiving dinner? Please select all that apply.   - Peach cobbler  \\\n",
      "0                                                NaN                                                                      \n",
      "1                                                NaN                                                                      \n",
      "\n",
      "  Which of these desserts do you typically have at Thanksgiving dinner? Please select all that apply.   - None  \\\n",
      "0                                                NaN                                                             \n",
      "1                                                NaN                                                             \n",
      "\n",
      "  Which of these desserts do you typically have at Thanksgiving dinner? Please select all that apply.   - Other (please specify)  \\\n",
      "0                                                NaN                                                                               \n",
      "1                             Other (please specify)                                                                               \n",
      "\n",
      "  Which of these desserts do you typically have at Thanksgiving dinner? Please select all that apply.   - Other (please specify).1  \n",
      "0                                                NaN                                                                                \n",
      "1  Jelly roll, sweet cheeseball, chocolate dipped...                                                                                \n",
      "                                                    counts\n",
      "None                                                   295\n",
      "Ice cream                                              266\n",
      "Cookies                                                204\n",
      "Cheesecake                                             191\n",
      "Other (please specify)                                 134\n",
      "Brownies                                               128\n",
      "Peach cobbler                                          103\n",
      "Carrot cake                                             72\n",
      "Fudge                                                   43\n",
      "Blondies                                                16\n",
      "pie                                                     13\n",
      "Pie                                                     12\n",
      "pies                                                     6\n",
      "Pumpkin pie                                              4\n",
      "pumpkin pie                                              4\n",
      "Pies                                                     3\n",
      "chocolate cake                                           3\n",
      "cake                                                     2\n",
      "Flan                                                     2\n",
      "Pumpkin Pie                                              2\n",
      "Chocolate trifle, bread pudding                          1\n",
      "Pound cake                                               1\n",
      "pumpkin bars                                             1\n",
      "lemon cake                                               1\n",
      "Pecan and pumpkin pie                                    1\n",
      "varies                                                   1\n",
      "Pies and dream whip                                      1\n",
      "pies: pumpkin with cie cream vanilla, apple, pecan       1\n",
      "pies above                                               1\n",
      "Banana Pudding                                           1\n",
      "...                                                    ...\n",
      "PUMPKIN PIE, OF COURSE                                   1\n",
      "Pumpkin roll                                             1\n",
      "pumpkin roll                                             1\n",
      "bread pudding                                            1\n",
      "german chocolate cake                                    1\n",
      "pies selected in previous question (apple, pump...       1\n",
      "PIES                                                     1\n",
      "whipped cream for pie                                    1\n",
      "as above                                                 1\n",
      "just pie                                                 1\n",
      "pumpkin and pecan pies                                   1\n",
      "Pie only                                                 1\n",
      "chocolate mousse                                         1\n",
      "Cake (not carrot)                                        1\n",
      "Lemon Pound, Sour Cream Pound, Rum Cake                  1\n",
      "Pumpkin Chiffon Pie                                      1\n",
      "banana pudding                                           1\n",
      "ethnic desserts                                          1\n",
      "Jelly roll, sweet cheeseball, chocolate dipped ...       1\n",
      "Just pie                                                 1\n",
      "Pumpkin log                                              1\n",
      "chocolate cake or coconut cake                           1\n",
      "Pie, pumpkin                                             1\n",
      "pine nut cake                                            1\n",
      "Date balls                                               1\n",
      "Blueberry Cream Cheese Cake                              1\n",
      "Pumpkin                                                  1\n",
      "whipped cream                                            1\n",
      "Pumpkin pie.                                             1\n",
      "cheesecake.                                              1\n",
      "\n",
      "[103 rows x 1 columns]\n"
     ]
    }
   ],
   "source": [
    "#select the columns containing desert data\n",
    "data_desert = data.iloc[:,40:51]\n",
    "print(data_desert.head(2))\n",
    "\n",
    "#create a dict with dersert name as key and counts as values\n",
    "#for specific other dersert dersert name and counts are also write into the dict\n",
    "desert_count = {}\n",
    "for column in data_desert:\n",
    "    count = data_desert[column].value_counts()\n",
    "    desert_count[list(count.index.values)[0]] = count.iloc[0]\n",
    "    if column == 'Which of these desserts do you typically have at Thanksgiving dinner? Please select all that apply.   - Other (please specify).1':\n",
    "        i = 0        \n",
    "        for other in list(count.index.values):\n",
    "            desert_count[other] = count.iloc[i]\n",
    "            i += 1\n",
    "#creat data frame from dict\n",
    "desert_count_df = pd.DataFrame.from_dict(desert_count, orient = 'index', dtype = int)\n",
    "#assign column name\n",
    "desert_count_df.columns = ['counts']\n",
    "#sort the desert counts in descending order\n",
    "sorted_desert_count_df = desert_count_df.sort_values(by=['counts'], ascending = False)\n",
    "#display result\n",
    "print(sorted_desert_count_df)"
   ]
  },
  {
   "cell_type": "markdown",
   "metadata": {
    "collapsed": true
   },
   "source": [
    "From the result, it is clear that most respondents choose to not have desert or they didn't consider pie/side dishes as desert. Among the deserts, ice cream is the most popular choice followed by cookies and cheesecakes. Also a large number of respondents choose \"Others\", which contains more specific answers. For the specific other desert choices, it seems a lot of the respond are pies or cakes. Some data cleaning is needed in the category and consider pie/cake in general as a dersert category."
   ]
  },
  {
   "cell_type": "code",
   "execution_count": null,
   "metadata": {
    "collapsed": true
   },
   "outputs": [],
   "source": []
  }
 ],
 "metadata": {
  "kernelspec": {
   "display_name": "Python 3",
   "language": "python",
   "name": "python3"
  },
  "language_info": {
   "codemirror_mode": {
    "name": "ipython",
    "version": 3
   },
   "file_extension": ".py",
   "mimetype": "text/x-python",
   "name": "python",
   "nbconvert_exporter": "python",
   "pygments_lexer": "ipython3",
   "version": "3.4.3"
  }
 },
 "nbformat": 4,
 "nbformat_minor": 0
}
